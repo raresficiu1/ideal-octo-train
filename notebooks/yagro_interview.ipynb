{
 "cells": [
  {
   "cell_type": "code",
   "execution_count": 293,
   "id": "c34d034d-8d54-4a5d-a5c0-797710a636eb",
   "metadata": {},
   "outputs": [],
   "source": [
    "import pyspark\n",
    "from pyspark.sql import SparkSession,Window\n",
    "from pyspark.conf import SparkConf\n",
    "from pyspark.sql.functions import col,lit,explode,count,when,min,max,avg,trim,sum,struct,round,broadcast,udf\n",
    "from pyspark.sql.types import StringType\n",
    "\n",
    "\n",
    "spark = SparkSession.builder.appName('Yagro Interview')\\\n",
    "                    .getOrCreate()"
   ]
  },
  {
   "cell_type": "code",
   "execution_count": 280,
   "id": "676a08eb-56af-46bd-85fa-e72b5dbf861e",
   "metadata": {},
   "outputs": [],
   "source": [
    "df=spark.read.csv('/home/jovyan/data/YAGRO-fuel-sales.csv')"
   ]
  },
  {
   "cell_type": "code",
   "execution_count": 281,
   "id": "86bf0284-4eae-4bbe-b32e-ea116cd240c9",
   "metadata": {},
   "outputs": [
    {
     "name": "stdout",
     "output_type": "stream",
     "text": [
      "+--------------+-----------+--------+------------+--------------+----------+-----------+--------+------------+--------------+---------------+-----------+--------+------------+--------------+------------+\n",
      "|           _c0|        _c1|     _c2|         _c3|           _c4|       _c5|        _c6|     _c7|         _c8|           _c9|           _c10|       _c11|    _c12|        _c13|          _c14|        _c15|\n",
      "+--------------+-----------+--------+------------+--------------+----------+-----------+--------+------------+--------------+---------------+-----------+--------+------------+--------------+------------+\n",
      "|     Segment>>|       Farm|    NULL|        NULL|          NULL|Farm Total|  Corporate|    NULL|        NULL|          NULL|Corporate Total|     Retail|    NULL|        NULL|          NULL|Retail Total|\n",
      "|   Ship Mode>>|First Class|Same Day|Second Class|Standard Class|      NULL|First Class|Same Day|Second Class|Standard Class|           NULL|First Class|Same Day|Second Class|Standard Class|        NULL|\n",
      "|      Order ID|       NULL|    NULL|        NULL|          NULL|      NULL|       NULL|    NULL|        NULL|          NULL|           NULL|       NULL|    NULL|        NULL|          NULL|        NULL|\n",
      "|CA-2011-100293|       NULL|    NULL|        NULL|          NULL|      NULL|       NULL|    NULL|        NULL|          NULL|           NULL|       NULL|    NULL|        NULL|        91.056|      91.056|\n",
      "|CA-2011-100706|       NULL|    NULL|      129.44|          NULL|    129.44|       NULL|    NULL|        NULL|          NULL|           NULL|       NULL|    NULL|        NULL|          NULL|        NULL|\n",
      "|CA-2011-100895|       NULL|    NULL|        NULL|        605.47|    605.47|       NULL|    NULL|        NULL|          NULL|           NULL|       NULL|    NULL|        NULL|          NULL|        NULL|\n",
      "|CA-2011-100916|       NULL|    NULL|        NULL|          NULL|      NULL|       NULL|    NULL|        NULL|        788.86|         788.86|       NULL|    NULL|        NULL|          NULL|        NULL|\n",
      "|CA-2011-101266|       NULL|    NULL|       13.36|          NULL|     13.36|       NULL|    NULL|        NULL|          NULL|           NULL|       NULL|    NULL|        NULL|          NULL|        NULL|\n",
      "|CA-2011-101560|       NULL|    NULL|        NULL|          NULL|      NULL|       NULL|    NULL|      542.34|          NULL|         542.34|       NULL|    NULL|        NULL|          NULL|        NULL|\n",
      "|CA-2011-101770|       NULL|    NULL|        NULL|          NULL|      NULL|       NULL|    NULL|        NULL|         1.869|          1.869|       NULL|    NULL|        NULL|          NULL|        NULL|\n",
      "|CA-2011-102274|       NULL|    NULL|        NULL|          NULL|      NULL|       NULL|    NULL|        NULL|         865.5|          865.5|       NULL|    NULL|        NULL|          NULL|        NULL|\n",
      "|CA-2011-102673|       NULL|    NULL|        NULL|          NULL|      NULL|       NULL|    NULL|        NULL|       1044.44|        1044.44|       NULL|    NULL|        NULL|          NULL|        NULL|\n",
      "|CA-2011-102988|       NULL|    NULL|        NULL|          NULL|      NULL|       NULL|    NULL|     4251.92|          NULL|        4251.92|       NULL|    NULL|        NULL|          NULL|        NULL|\n",
      "|CA-2011-103317|       NULL|    NULL|        NULL|          NULL|      NULL|    242.546|    NULL|        NULL|          NULL|        242.546|       NULL|    NULL|        NULL|          NULL|        NULL|\n",
      "|CA-2011-103366|     149.95|    NULL|        NULL|          NULL|    149.95|       NULL|    NULL|        NULL|          NULL|           NULL|       NULL|    NULL|        NULL|          NULL|        NULL|\n",
      "|CA-2011-103807|       NULL|    NULL|        NULL|          NULL|      NULL|       NULL|    NULL|        NULL|         21.19|          21.19|       NULL|    NULL|        NULL|          NULL|        NULL|\n",
      "|CA-2011-103989|       NULL|    NULL|        NULL|          NULL|      NULL|    590.762|    NULL|        NULL|          NULL|        590.762|       NULL|    NULL|        NULL|          NULL|        NULL|\n",
      "|CA-2011-104283|       NULL|    NULL|        NULL|        616.14|    616.14|       NULL|    NULL|        NULL|          NULL|           NULL|       NULL|    NULL|        NULL|          NULL|        NULL|\n",
      "|CA-2011-106054|       NULL|    NULL|        NULL|          NULL|      NULL|      12.78|    NULL|        NULL|          NULL|          12.78|       NULL|    NULL|        NULL|          NULL|        NULL|\n",
      "|CA-2011-106810|       NULL|    NULL|        NULL|          NULL|      NULL|       NULL|    NULL|        NULL|        310.88|         310.88|       NULL|    NULL|        NULL|          NULL|        NULL|\n",
      "+--------------+-----------+--------+------------+--------------+----------+-----------+--------+------------+--------------+---------------+-----------+--------+------------+--------------+------------+\n",
      "only showing top 20 rows\n",
      "\n"
     ]
    }
   ],
   "source": [
    "df.show()"
   ]
  },
  {
   "cell_type": "code",
   "execution_count": 282,
   "id": "b00f7288-bc77-4321-a9d0-821da570dcff",
   "metadata": {},
   "outputs": [
    {
     "data": {
      "text/plain": [
       "'Farm_Total'"
      ]
     },
     "execution_count": 282,
     "metadata": {},
     "output_type": "execute_result"
    }
   ],
   "source": [
    "def remove_spaces(s):\n",
    "    return s.replace(' ','_')\n",
    "remove_spaces('Farm Total')"
   ]
  },
  {
   "cell_type": "code",
   "execution_count": 283,
   "id": "5e5294d5-5827-450e-ac1c-f3926104ded6",
   "metadata": {},
   "outputs": [],
   "source": [
    "rows = df.collect()"
   ]
  },
  {
   "cell_type": "code",
   "execution_count": 284,
   "id": "9aa5e525-fe78-4086-8a24-56513d34ebd5",
   "metadata": {},
   "outputs": [
    {
     "name": "stdout",
     "output_type": "stream",
     "text": [
      "['Farm', 'Corporate', 'Retail']\n"
     ]
    }
   ],
   "source": [
    "main_columns =[]\n",
    "for i in range(1, len(rows[0])):\n",
    "    if(rows[0][i] is not None and 'Total' not in  rows[0][i]):\n",
    "        main_columns.append(rows[0][i])\n",
    "print(main_columns)"
   ]
  },
  {
   "cell_type": "code",
   "execution_count": 285,
   "id": "62710707-740a-48f1-a167-de801bebad90",
   "metadata": {},
   "outputs": [],
   "source": [
    "# for each main column get the subcolumns and their location\n",
    "col_location =[]\n",
    "current_main_col = main_columns.pop(0)\n",
    "for i in range(1, len(rows[1])):\n",
    "    if(rows[1][i] is None):\n",
    "        col_location.append((current_main_col, remove_spaces(rows[0][i]),i))\n",
    "        try:\n",
    "            current_main_col = main_columns.pop(0)\n",
    "        except IndexError:\n",
    "            pass\n",
    "    else:\n",
    "        col_location.append((current_main_col, remove_spaces(rows[1][i]),i))"
   ]
  },
  {
   "cell_type": "code",
   "execution_count": 286,
   "id": "81e8bda7-c03b-4963-b3d6-c49281ec41ab",
   "metadata": {},
   "outputs": [
    {
     "name": "stdout",
     "output_type": "stream",
     "text": [
      "('Farm', 'First_Class', 1)\n",
      "('Farm', 'Same_Day', 2)\n",
      "('Farm', 'Second_Class', 3)\n",
      "('Farm', 'Standard_Class', 4)\n",
      "('Farm', 'Farm_Total', 5)\n",
      "('Corporate', 'First_Class', 6)\n",
      "('Corporate', 'Same_Day', 7)\n",
      "('Corporate', 'Second_Class', 8)\n",
      "('Corporate', 'Standard_Class', 9)\n",
      "('Corporate', 'Corporate_Total', 10)\n",
      "('Retail', 'First_Class', 11)\n",
      "('Retail', 'Same_Day', 12)\n",
      "('Retail', 'Second_Class', 13)\n",
      "('Retail', 'Standard_Class', 14)\n",
      "('Retail', 'Retail_Total', 15)\n"
     ]
    }
   ],
   "source": [
    "for i in col_location:\n",
    "    print(i)"
   ]
  },
  {
   "cell_type": "code",
   "execution_count": 287,
   "id": "bef1bd34-8989-4f79-b6ea-aa56dd4dd2c9",
   "metadata": {},
   "outputs": [],
   "source": [
    "## cut the first 3 rows / rename first column and drop the last row"
   ]
  },
  {
   "cell_type": "code",
   "execution_count": 288,
   "id": "c3b726e2-729e-4848-9613-2ad07988fc92",
   "metadata": {},
   "outputs": [
    {
     "data": {
      "text/plain": [
       "(822, 826)"
      ]
     },
     "execution_count": 288,
     "metadata": {},
     "output_type": "execute_result"
    }
   ],
   "source": [
    "rdd_with_index = df.rdd.zipWithIndex()\n",
    "df_with_index = rdd_with_index.map(lambda x: (*x[0], x[1])).toDF(df.columns + [\"index\"])\n",
    "\n",
    "# get index of last row\n",
    "last_row = df_with_index.agg(max(\"index\").alias(\"max_index\")).collect()[0][0]\n",
    "\n",
    "df_new = df_with_index.filter((df_with_index.index > 2) & (df_with_index.index != last_row)).drop('index')\n",
    "\n",
    "df_new.count(), df.count()"
   ]
  },
  {
   "cell_type": "code",
   "execution_count": 289,
   "id": "2b25d878-72db-4b38-8cd7-da9068ea3ba3",
   "metadata": {},
   "outputs": [
    {
     "name": "stdout",
     "output_type": "stream",
     "text": [
      "+--------------+-----------+--------+------------+--------------+----------+-----------+--------+------------+--------------+---------------+-----------+--------+------------+--------------+------------+-----+\n",
      "|           _c0|        _c1|     _c2|         _c3|           _c4|       _c5|        _c6|     _c7|         _c8|           _c9|           _c10|       _c11|    _c12|        _c13|          _c14|        _c15|index|\n",
      "+--------------+-----------+--------+------------+--------------+----------+-----------+--------+------------+--------------+---------------+-----------+--------+------------+--------------+------------+-----+\n",
      "|     Segment>>|       Farm|    NULL|        NULL|          NULL|Farm Total|  Corporate|    NULL|        NULL|          NULL|Corporate Total|     Retail|    NULL|        NULL|          NULL|Retail Total|    0|\n",
      "|   Ship Mode>>|First Class|Same Day|Second Class|Standard Class|      NULL|First Class|Same Day|Second Class|Standard Class|           NULL|First Class|Same Day|Second Class|Standard Class|        NULL|    1|\n",
      "|      Order ID|       NULL|    NULL|        NULL|          NULL|      NULL|       NULL|    NULL|        NULL|          NULL|           NULL|       NULL|    NULL|        NULL|          NULL|        NULL|    2|\n",
      "|CA-2011-100293|       NULL|    NULL|        NULL|          NULL|      NULL|       NULL|    NULL|        NULL|          NULL|           NULL|       NULL|    NULL|        NULL|        91.056|      91.056|    3|\n",
      "|CA-2011-100706|       NULL|    NULL|      129.44|          NULL|    129.44|       NULL|    NULL|        NULL|          NULL|           NULL|       NULL|    NULL|        NULL|          NULL|        NULL|    4|\n",
      "|CA-2011-100895|       NULL|    NULL|        NULL|        605.47|    605.47|       NULL|    NULL|        NULL|          NULL|           NULL|       NULL|    NULL|        NULL|          NULL|        NULL|    5|\n",
      "|CA-2011-100916|       NULL|    NULL|        NULL|          NULL|      NULL|       NULL|    NULL|        NULL|        788.86|         788.86|       NULL|    NULL|        NULL|          NULL|        NULL|    6|\n",
      "|CA-2011-101266|       NULL|    NULL|       13.36|          NULL|     13.36|       NULL|    NULL|        NULL|          NULL|           NULL|       NULL|    NULL|        NULL|          NULL|        NULL|    7|\n",
      "|CA-2011-101560|       NULL|    NULL|        NULL|          NULL|      NULL|       NULL|    NULL|      542.34|          NULL|         542.34|       NULL|    NULL|        NULL|          NULL|        NULL|    8|\n",
      "|CA-2011-101770|       NULL|    NULL|        NULL|          NULL|      NULL|       NULL|    NULL|        NULL|         1.869|          1.869|       NULL|    NULL|        NULL|          NULL|        NULL|    9|\n",
      "|CA-2011-102274|       NULL|    NULL|        NULL|          NULL|      NULL|       NULL|    NULL|        NULL|         865.5|          865.5|       NULL|    NULL|        NULL|          NULL|        NULL|   10|\n",
      "|CA-2011-102673|       NULL|    NULL|        NULL|          NULL|      NULL|       NULL|    NULL|        NULL|       1044.44|        1044.44|       NULL|    NULL|        NULL|          NULL|        NULL|   11|\n",
      "|CA-2011-102988|       NULL|    NULL|        NULL|          NULL|      NULL|       NULL|    NULL|     4251.92|          NULL|        4251.92|       NULL|    NULL|        NULL|          NULL|        NULL|   12|\n",
      "|CA-2011-103317|       NULL|    NULL|        NULL|          NULL|      NULL|    242.546|    NULL|        NULL|          NULL|        242.546|       NULL|    NULL|        NULL|          NULL|        NULL|   13|\n",
      "|CA-2011-103366|     149.95|    NULL|        NULL|          NULL|    149.95|       NULL|    NULL|        NULL|          NULL|           NULL|       NULL|    NULL|        NULL|          NULL|        NULL|   14|\n",
      "|CA-2011-103807|       NULL|    NULL|        NULL|          NULL|      NULL|       NULL|    NULL|        NULL|         21.19|          21.19|       NULL|    NULL|        NULL|          NULL|        NULL|   15|\n",
      "|CA-2011-103989|       NULL|    NULL|        NULL|          NULL|      NULL|    590.762|    NULL|        NULL|          NULL|        590.762|       NULL|    NULL|        NULL|          NULL|        NULL|   16|\n",
      "|CA-2011-104283|       NULL|    NULL|        NULL|        616.14|    616.14|       NULL|    NULL|        NULL|          NULL|           NULL|       NULL|    NULL|        NULL|          NULL|        NULL|   17|\n",
      "|CA-2011-106054|       NULL|    NULL|        NULL|          NULL|      NULL|      12.78|    NULL|        NULL|          NULL|          12.78|       NULL|    NULL|        NULL|          NULL|        NULL|   18|\n",
      "|CA-2011-106810|       NULL|    NULL|        NULL|          NULL|      NULL|       NULL|    NULL|        NULL|        310.88|         310.88|       NULL|    NULL|        NULL|          NULL|        NULL|   19|\n",
      "+--------------+-----------+--------+------------+--------------+----------+-----------+--------+------------+--------------+---------------+-----------+--------+------------+--------------+------------+-----+\n",
      "only showing top 20 rows\n",
      "\n"
     ]
    }
   ],
   "source": [
    "df_with_index.show()"
   ]
  },
  {
   "cell_type": "code",
   "execution_count": 290,
   "id": "62c37756-0756-48e7-8bd2-f94d37024e27",
   "metadata": {},
   "outputs": [],
   "source": [
    "# rebuild it with structs\n",
    "# test\n",
    "# df_new = df_new.withColumn(\"Farm\", struct(col(\"_c1\").alias(\"First_Class\")))\n",
    "#df_new = df_new.withColumn(\"Farm\", \n",
    "#    col(\"Farm\").withField(\"Extra\", struct(\n",
    "#        col(\"_c4\").alias(\"First_Class2\")))\n",
    "#)\n",
    "#df_new.show()"
   ]
  },
  {
   "cell_type": "code",
   "execution_count": 291,
   "id": "8e325b8a-b5ea-4e45-806c-64e69489ef8f",
   "metadata": {},
   "outputs": [],
   "source": [
    "df_new = df_new.withColumnRenamed('_c0','order_id')\n",
    "\n",
    "for i in col_location:\n",
    "    if(i[0] not in df_new.columns):\n",
    "        df_new = df_new.withColumn(i[0], struct(col(f\"_c{i[2]}\").alias(i[1]))).drop(f\"_c{i[2]}\")\n",
    "    else:\n",
    "        df_new = df_new.withColumn(i[0],col(i[0]).withField(i[1], col(f\"_c{i[2]}\").alias(i[1]))).drop(f\"_c{i[2]}\")"
   ]
  },
  {
   "cell_type": "code",
   "execution_count": 267,
   "id": "8c4e5010-4064-4aa4-8aef-ecfa5c715ecc",
   "metadata": {},
   "outputs": [
    {
     "name": "stdout",
     "output_type": "stream",
     "text": [
      "+--------------+--------------------+--------------------+--------------------+\n",
      "|      order_id|                Farm|           Corporate|              Retail|\n",
      "+--------------+--------------------+--------------------+--------------------+\n",
      "|CA-2011-100293|{NULL, NULL, NULL...|{NULL, NULL, NULL...|{NULL, NULL, NULL...|\n",
      "|CA-2011-100706|{NULL, NULL, 129....|{NULL, NULL, NULL...|{NULL, NULL, NULL...|\n",
      "|CA-2011-100895|{NULL, NULL, NULL...|{NULL, NULL, NULL...|{NULL, NULL, NULL...|\n",
      "|CA-2011-100916|{NULL, NULL, NULL...|{NULL, NULL, NULL...|{NULL, NULL, NULL...|\n",
      "|CA-2011-101266|{NULL, NULL, 13.3...|{NULL, NULL, NULL...|{NULL, NULL, NULL...|\n",
      "|CA-2011-101560|{NULL, NULL, NULL...|{NULL, NULL, 542....|{NULL, NULL, NULL...|\n",
      "|CA-2011-101770|{NULL, NULL, NULL...|{NULL, NULL, NULL...|{NULL, NULL, NULL...|\n",
      "|CA-2011-102274|{NULL, NULL, NULL...|{NULL, NULL, NULL...|{NULL, NULL, NULL...|\n",
      "|CA-2011-102673|{NULL, NULL, NULL...|{NULL, NULL, NULL...|{NULL, NULL, NULL...|\n",
      "|CA-2011-102988|{NULL, NULL, NULL...|{NULL, NULL, 4251...|{NULL, NULL, NULL...|\n",
      "|CA-2011-103317|{NULL, NULL, NULL...|{242.546, NULL, N...|{NULL, NULL, NULL...|\n",
      "|CA-2011-103366|{149.95, NULL, NU...|{NULL, NULL, NULL...|{NULL, NULL, NULL...|\n",
      "|CA-2011-103807|{NULL, NULL, NULL...|{NULL, NULL, NULL...|{NULL, NULL, NULL...|\n",
      "|CA-2011-103989|{NULL, NULL, NULL...|{590.762, NULL, N...|{NULL, NULL, NULL...|\n",
      "|CA-2011-104283|{NULL, NULL, NULL...|{NULL, NULL, NULL...|{NULL, NULL, NULL...|\n",
      "|CA-2011-106054|{NULL, NULL, NULL...|{12.78, NULL, NUL...|{NULL, NULL, NULL...|\n",
      "|CA-2011-106810|{NULL, NULL, NULL...|{NULL, NULL, NULL...|{NULL, NULL, NULL...|\n",
      "|CA-2011-107573|{NULL, NULL, NULL...|{NULL, NULL, NULL...|{NULL, NULL, NULL...|\n",
      "|CA-2011-107811|{NULL, NULL, NULL...|{NULL, NULL, NULL...|{NULL, NULL, NULL...|\n",
      "|CA-2011-108707|{NULL, NULL, NULL...|{NULL, NULL, NULL...|{NULL, NULL, NULL...|\n",
      "+--------------+--------------------+--------------------+--------------------+\n",
      "only showing top 20 rows\n",
      "\n"
     ]
    }
   ],
   "source": [
    "df_new.show()"
   ]
  },
  {
   "cell_type": "code",
   "execution_count": 268,
   "id": "f5c321b0-0835-4c7f-8b0d-23a40d9748eb",
   "metadata": {},
   "outputs": [
    {
     "name": "stdout",
     "output_type": "stream",
     "text": [
      "+-----------+--------+------------+--------------+----------+\n",
      "|First_Class|Same_Day|Second_Class|Standard_Class|Farm_Total|\n",
      "+-----------+--------+------------+--------------+----------+\n",
      "|       NULL|    NULL|        NULL|          NULL|      NULL|\n",
      "|       NULL|    NULL|      129.44|          NULL|    129.44|\n",
      "|       NULL|    NULL|        NULL|        605.47|    605.47|\n",
      "|       NULL|    NULL|        NULL|          NULL|      NULL|\n",
      "|       NULL|    NULL|       13.36|          NULL|     13.36|\n",
      "|       NULL|    NULL|        NULL|          NULL|      NULL|\n",
      "|       NULL|    NULL|        NULL|          NULL|      NULL|\n",
      "|       NULL|    NULL|        NULL|          NULL|      NULL|\n",
      "|       NULL|    NULL|        NULL|          NULL|      NULL|\n",
      "|       NULL|    NULL|        NULL|          NULL|      NULL|\n",
      "|       NULL|    NULL|        NULL|          NULL|      NULL|\n",
      "|     149.95|    NULL|        NULL|          NULL|    149.95|\n",
      "|       NULL|    NULL|        NULL|          NULL|      NULL|\n",
      "|       NULL|    NULL|        NULL|          NULL|      NULL|\n",
      "|       NULL|    NULL|        NULL|        616.14|    616.14|\n",
      "|       NULL|    NULL|        NULL|          NULL|      NULL|\n",
      "|       NULL|    NULL|        NULL|          NULL|      NULL|\n",
      "|       NULL|    NULL|        NULL|        23.472|    23.472|\n",
      "|       NULL|    NULL|        NULL|          NULL|      NULL|\n",
      "|       NULL|    NULL|        NULL|          NULL|      NULL|\n",
      "+-----------+--------+------------+--------------+----------+\n",
      "only showing top 20 rows\n",
      "\n"
     ]
    }
   ],
   "source": [
    "# query test\n",
    "df_new.select('Farm.*').show()"
   ]
  },
  {
   "cell_type": "markdown",
   "id": "3988b234-9975-4a1c-818d-c4a0952cd221",
   "metadata": {},
   "source": [
    "#### Exercise start\n",
    "##### How much fuel was ordered by farms?"
   ]
  },
  {
   "cell_type": "code",
   "execution_count": 269,
   "id": "b735f0f6-9c95-46a4-b0f4-289baf987eaf",
   "metadata": {},
   "outputs": [
    {
     "name": "stdout",
     "output_type": "stream",
     "text": [
      "+----------------+\n",
      "|Total_Fuel_Farms|\n",
      "+----------------+\n",
      "|      195580.971|\n",
      "+----------------+\n",
      "\n"
     ]
    }
   ],
   "source": [
    "df_new.agg(round(sum('Farm.Farm_Total'),3).alias('Total_Fuel_Farms')).show()"
   ]
  },
  {
   "cell_type": "code",
   "execution_count": 270,
   "id": "1dcdfe07-865e-471c-bbd8-6731b19b6b68",
   "metadata": {},
   "outputs": [
    {
     "name": "stdout",
     "output_type": "stream",
     "text": [
      "+-----------------+--------------+------------------+--------------------+----------------+-------------------------+\n",
      "|Total_First_Class|Total_Same_Day|Total_Second_Class|Total_Standard_Class|Total_Farm_Total|Total_Using_Other_columns|\n",
      "+-----------------+--------------+------------------+--------------------+----------------+-------------------------+\n",
      "|        20802.173|      8132.409|        49724.2545|         116714.3145|      195580.971|               195373.151|\n",
      "+-----------------+--------------+------------------+--------------------+----------------+-------------------------+\n",
      "\n",
      "+--------------+\n",
      "|Total_last_row|\n",
      "+--------------+\n",
      "|    195580.971|\n",
      "+--------------+\n",
      "\n"
     ]
    }
   ],
   "source": [
    "# check if total column is accurate\n",
    "farm_columns = df_new.select(\"Farm.*\").columns\n",
    "aggregations = {f\"Farm.{col}\": round(sum(f\"Farm.{col}\"), 4).alias(f\"Total_{col}\") for col in farm_columns}\n",
    "df_farms = df_new.agg(*aggregations.values())\n",
    "df_farms = df_farms.withColumn('Total_Using_Other_columns',col('Total_First_Class')+ col('Total_Same_Day')+ col('Total_Second_Class')+ col('Total_Standard_Class'))\n",
    "\n",
    "df_farms.show()\n",
    "\n",
    "# check value from the total listed in the original file\n",
    "df_with_index.filter(df_with_index.index == last_row).select(col('_c5').alias('Total_last_row')).show()"
   ]
  },
  {
   "cell_type": "markdown",
   "id": "ba12bf81-4aee-4972-8ccf-05ce866f22b8",
   "metadata": {},
   "source": [
    "##### How much fuel was ordered by retail customers?"
   ]
  },
  {
   "cell_type": "code",
   "execution_count": 271,
   "id": "f0d6d6cb-2ea1-40a6-ab76-f1ab440e3ba9",
   "metadata": {},
   "outputs": [
    {
     "name": "stdout",
     "output_type": "stream",
     "text": [
      "+-----------------+--------------+------------------+--------------------+------------------+-------------------------+\n",
      "|Total_First_Class|Total_Same_Day|Total_Second_Class|Total_Standard_Class|Total_Retail_Total|Total_Using_Other_columns|\n",
      "+-----------------+--------------+------------------+--------------------+------------------+-------------------------+\n",
      "|         7737.786|      2977.456|          8791.127|          54748.6325|        74255.0015|               74255.0015|\n",
      "+-----------------+--------------+------------------+--------------------+------------------+-------------------------+\n",
      "\n",
      "+--------------+\n",
      "|Total_last_row|\n",
      "+--------------+\n",
      "|    74255.0015|\n",
      "+--------------+\n",
      "\n"
     ]
    }
   ],
   "source": [
    "# check if total column is accurate\n",
    "retail_columns = df_new.select(\"Retail.*\").columns\n",
    "aggregations = {f\"Retail.{col}\": round(sum(f\"Retail.{col}\"), 4).alias(f\"Total_{col}\") for col in retail_columns}\n",
    "df_retail = df_new.agg(*aggregations.values())\n",
    "df_retail = df_retail.withColumn('Total_Using_Other_columns',col('Total_First_Class')+ col('Total_Same_Day')+ col('Total_Second_Class')+ col('Total_Standard_Class'))\n",
    "\n",
    "df_retail.show()\n",
    "\n",
    "# check value from the total listed in the original file\n",
    "df_with_index.filter(df_with_index.index == last_row).select(col('_c15').alias('Total_last_row')).show()"
   ]
  },
  {
   "cell_type": "code",
   "execution_count": 272,
   "id": "d875f2e8-e5c7-494a-8d3b-68d96196f7c5",
   "metadata": {},
   "outputs": [
    {
     "name": "stdout",
     "output_type": "stream",
     "text": [
      "+-------------+------------------+---------------+---------+\n",
      "|Total_Farm_SD|Total_Corporate_SD|Total_Retail_SD|    Total|\n",
      "+-------------+------------------+---------------+---------+\n",
      "|     8132.409|          9907.308|       2977.456|21017.173|\n",
      "+-------------+------------------+---------------+---------+\n",
      "\n",
      "+-------------+------------------+---------------+---------+\n",
      "|Total_Farm_SD|Total_Corporate_SD|Total_Retail_SD|    Total|\n",
      "+-------------+------------------+---------------+---------+\n",
      "|     8132.409|            9907.3|        2977.46|21017.169|\n",
      "+-------------+------------------+---------------+---------+\n",
      "\n"
     ]
    }
   ],
   "source": [
    "df_sd = df_new.select(col(\"Farm.Same_day\").alias('farm_sd'),col(\"Corporate.Same_day\").alias('corporate_sd'),col(\"Retail.Same_day\").alias('retail_sd'))\n",
    "df_sd_sum = df_sd.agg(\n",
    "    round(sum(\"farm_sd\"),4).alias(\"Total_Farm_SD\"),\n",
    "    round(sum(\"corporate_sd\"),4).alias(\"Total_Corporate_SD\"),\n",
    "     round(sum(\"retail_sd\"),4).alias(\"Total_Retail_SD\")\n",
    ")\n",
    "df_sd_sum = df_sd_sum.withColumn('Total',round(col('Total_Farm_SD')+ col('Total_Corporate_SD')+ col('Total_Retail_SD'),4))\n",
    "df_sd_sum.show()\n",
    "\n",
    "#compared with last row values\n",
    "df_sd_last_row = df_with_index.filter(df_with_index.index == last_row).select(col('_c2').alias('Total_Farm_SD'), col('_c7').alias('Total_Corporate_SD'), col('_c12').alias('Total_Retail_SD')).withColumn('Total', round(col('Total_Farm_SD')+ col('Total_Corporate_SD')+ col('Total_Retail_SD'),4))\n",
    "df_sd_last_row.show()"
   ]
  },
  {
   "cell_type": "code",
   "execution_count": 274,
   "id": "f55f94d4-b7b7-435b-a5cf-30707f3679b9",
   "metadata": {},
   "outputs": [
    {
     "name": "stdout",
     "output_type": "stream",
     "text": [
      "+-----+-------------+------------------+---------------+---------+-------------------------------------+\n",
      "|index|Total_Farm_SD|Total_Corporate_SD|Total_Retail_SD|Total    |notes                                |\n",
      "+-----+-------------+------------------+---------------+---------+-------------------------------------+\n",
      "|0    |8132.409     |9907.308          |2977.456       |21017.173|Total using actual data in table     |\n",
      "|1    |8132.409     |9907.3            |2977.46        |21017.169|<- Total using the values in last row|\n",
      "+-----+-------------+------------------+---------------+---------+-------------------------------------+\n",
      "\n"
     ]
    }
   ],
   "source": [
    "df_sd_sum = df_sd_sum.withColumn('index',lit(0))\n",
    "df_sd_last_row = df_sd_last_row.withColumn('index',lit(1))\n",
    "\n",
    "df_union = df_sd_sum.union(df_sd_last_row)\n",
    "\n",
    "data2 = [\n",
    "    (0, \"Total using actual data in table\"),\n",
    "    (1, \"<- Total using the values in last row\")\n",
    "]\n",
    "columns2 = [\"index\", \"notes\"]\n",
    "\n",
    "df_notes = spark.createDataFrame(data2, columns2)\n",
    "\n",
    "df_union.join(broadcast(df_notes),'index','left').show(truncate=False)"
   ]
  },
  {
   "cell_type": "code",
   "execution_count": 275,
   "id": "5fa1a29d-5389-4d9a-a339-cee92f4b44f0",
   "metadata": {},
   "outputs": [],
   "source": [
    "## how much ordered in 2012 and from US based clients in 2014"
   ]
  },
  {
   "cell_type": "code",
   "execution_count": 276,
   "id": "1811fe7b-641c-4e3b-b9cc-397395d0b82d",
   "metadata": {},
   "outputs": [
    {
     "data": {
      "text/plain": [
       "'2011'"
      ]
     },
     "execution_count": 276,
     "metadata": {},
     "output_type": "execute_result"
    }
   ],
   "source": [
    "def extract_year(s):\n",
    "    return (s.split('-')[1])\n",
    "extract_year('CA-2011-100895')"
   ]
  },
  {
   "cell_type": "code",
   "execution_count": 278,
   "id": "fae0b14e-4edb-4229-b795-8049c0536b58",
   "metadata": {},
   "outputs": [
    {
     "data": {
      "text/plain": [
       "'CA'"
      ]
     },
     "execution_count": 278,
     "metadata": {},
     "output_type": "execute_result"
    }
   ],
   "source": [
    "def extract_country(s):\n",
    "    return (s.split('-')[0])\n",
    "extract_country('CA-2011-100895')"
   ]
  },
  {
   "cell_type": "code",
   "execution_count": 296,
   "id": "7b8485da-7c36-4fc3-8882-a33835e345f9",
   "metadata": {},
   "outputs": [
    {
     "name": "stdout",
     "output_type": "stream",
     "text": [
      "+--------------+--------------------+--------------------+--------------------+----+-------+\n",
      "|      order_id|                Farm|           Corporate|              Retail|year|country|\n",
      "+--------------+--------------------+--------------------+--------------------+----+-------+\n",
      "|CA-2011-100293|{NULL, NULL, NULL...|{NULL, NULL, NULL...|{NULL, NULL, NULL...|2011|     CA|\n",
      "|CA-2011-100706|{NULL, NULL, 129....|{NULL, NULL, NULL...|{NULL, NULL, NULL...|2011|     CA|\n",
      "|CA-2011-100895|{NULL, NULL, NULL...|{NULL, NULL, NULL...|{NULL, NULL, NULL...|2011|     CA|\n",
      "|CA-2011-100916|{NULL, NULL, NULL...|{NULL, NULL, NULL...|{NULL, NULL, NULL...|2011|     CA|\n",
      "|CA-2011-101266|{NULL, NULL, 13.3...|{NULL, NULL, NULL...|{NULL, NULL, NULL...|2011|     CA|\n",
      "|CA-2011-101560|{NULL, NULL, NULL...|{NULL, NULL, 542....|{NULL, NULL, NULL...|2011|     CA|\n",
      "|CA-2011-101770|{NULL, NULL, NULL...|{NULL, NULL, NULL...|{NULL, NULL, NULL...|2011|     CA|\n",
      "|CA-2011-102274|{NULL, NULL, NULL...|{NULL, NULL, NULL...|{NULL, NULL, NULL...|2011|     CA|\n",
      "|CA-2011-102673|{NULL, NULL, NULL...|{NULL, NULL, NULL...|{NULL, NULL, NULL...|2011|     CA|\n",
      "|CA-2011-102988|{NULL, NULL, NULL...|{NULL, NULL, 4251...|{NULL, NULL, NULL...|2011|     CA|\n",
      "|CA-2011-103317|{NULL, NULL, NULL...|{242.546, NULL, N...|{NULL, NULL, NULL...|2011|     CA|\n",
      "|CA-2011-103366|{149.95, NULL, NU...|{NULL, NULL, NULL...|{NULL, NULL, NULL...|2011|     CA|\n",
      "|CA-2011-103807|{NULL, NULL, NULL...|{NULL, NULL, NULL...|{NULL, NULL, NULL...|2011|     CA|\n",
      "|CA-2011-103989|{NULL, NULL, NULL...|{590.762, NULL, N...|{NULL, NULL, NULL...|2011|     CA|\n",
      "|CA-2011-104283|{NULL, NULL, NULL...|{NULL, NULL, NULL...|{NULL, NULL, NULL...|2011|     CA|\n",
      "|CA-2011-106054|{NULL, NULL, NULL...|{12.78, NULL, NUL...|{NULL, NULL, NULL...|2011|     CA|\n",
      "|CA-2011-106810|{NULL, NULL, NULL...|{NULL, NULL, NULL...|{NULL, NULL, NULL...|2011|     CA|\n",
      "|CA-2011-107573|{NULL, NULL, NULL...|{NULL, NULL, NULL...|{NULL, NULL, NULL...|2011|     CA|\n",
      "|CA-2011-107811|{NULL, NULL, NULL...|{NULL, NULL, NULL...|{NULL, NULL, NULL...|2011|     CA|\n",
      "|CA-2011-108707|{NULL, NULL, NULL...|{NULL, NULL, NULL...|{NULL, NULL, NULL...|2011|     CA|\n",
      "+--------------+--------------------+--------------------+--------------------+----+-------+\n",
      "only showing top 20 rows\n",
      "\n"
     ]
    }
   ],
   "source": [
    "extract_year_udf = udf(extract_year, StringType())\n",
    "extract_country_udf = udf(extract_country, StringType())\n",
    "df_new = df_new.withColumn('year',extract_year_udf(col('order_id')))\n",
    "df_new = df_new.withColumn('country',extract_country_udf(col('order_id')))\n",
    "df_new.show()"
   ]
  },
  {
   "cell_type": "code",
   "execution_count": 304,
   "id": "362b53e0-b706-440d-b042-ce45aa05a374",
   "metadata": {},
   "outputs": [
    {
     "name": "stdout",
     "output_type": "stream",
     "text": [
      "+----------+------------+---------------+----------------+\n",
      "|Total_Farm|Total_Retail|Total_Corporate|Grand_Total_2012|\n",
      "+----------+------------+---------------+----------------+\n",
      "|49206.2265|    4046.424|       18107.33|      71359.9805|\n",
      "+----------+------------+---------------+----------------+\n",
      "\n"
     ]
    }
   ],
   "source": [
    "df_12 = df_new.filter(col('year')== '2012')\n",
    "df_12.select('Farm.Farm_Total','Retail.Retail_Total','Corporate.Corporate_Total')\n",
    "\n",
    "\n",
    "df_12 = df_12.agg(\n",
    "    round(sum(col(\"Farm.Farm_Total\")),4).alias(\"Total_Farm\"),\n",
    "    round(sum(col(\"Retail.Retail_Total\")),4).alias(\"Total_Retail\"),\n",
    "    round(sum(col(\"Corporate.Corporate_Total\")),4).alias(\"Total_Corporate\")\n",
    ")\n",
    "\n",
    "df_12 = df_12.withColumn(\"Grand_Total_2012\", \n",
    "                                  col(\"Total_Farm\") + col(\"Total_Retail\") + col(\"Total_Corporate\"))\n",
    "\n",
    "df_12.show()"
   ]
  },
  {
   "cell_type": "code",
   "execution_count": 306,
   "id": "adbbc133-8ccd-4884-a77c-d32c69aed071",
   "metadata": {},
   "outputs": [
    {
     "name": "stdout",
     "output_type": "stream",
     "text": [
      "+----------+------------+---------------+--------------+\n",
      "|Total_Farm|Total_Retail|Total_Corporate|Grand_Total_US|\n",
      "+----------+------------+---------------+--------------+\n",
      "| 10036.198|   8147.3605|      11479.617|    29663.1755|\n",
      "+----------+------------+---------------+--------------+\n",
      "\n"
     ]
    }
   ],
   "source": [
    "df_US = df_new.filter((col('year')== '2014') & (col('country')== 'US'))\n",
    "df_US.select('Farm.Farm_Total','Retail.Retail_Total','Corporate.Corporate_Total')\n",
    "\n",
    "\n",
    "df_US = df_US.agg(\n",
    "    round(sum(col(\"Farm.Farm_Total\")),4).alias(\"Total_Farm\"),\n",
    "    round(sum(col(\"Retail.Retail_Total\")),4).alias(\"Total_Retail\"),\n",
    "    round(sum(col(\"Corporate.Corporate_Total\")),4).alias(\"Total_Corporate\")\n",
    ")\n",
    "\n",
    "df_US = df_US.withColumn(\"Grand_Total_US\", \n",
    "                                  round(col(\"Total_Farm\") + col(\"Total_Retail\") + col(\"Total_Corporate\"),4))\n",
    "\n",
    "df_US.show()"
   ]
  },
  {
   "cell_type": "markdown",
   "id": "268121ea-0bc7-4aba-9db3-cb27aeb8fb64",
   "metadata": {},
   "source": [
    "### Storage"
   ]
  },
  {
   "cell_type": "code",
   "execution_count": 309,
   "id": "8a4479c1-076b-40bd-a577-12d4e3cf26c9",
   "metadata": {},
   "outputs": [
    {
     "name": "stdout",
     "output_type": "stream",
     "text": [
      "order_id null test - Success\n"
     ]
    }
   ],
   "source": [
    "def order_id_null(spark,df):\n",
    "    null_user_id_count = df.filter(col(\"order_id\").isNull()).count()\n",
    "    assert null_user_id_count == 0, f\"order_id null test Failed\"\n",
    "    print(\"order_id null test - Success\")\n",
    "\n",
    "order_id_null(spark,df_new)\n",
    "\n",
    "df_new.write.partitionBy('year').mode('append').parquet(\"/home/jovyan/data/dataset.parquet\")"
   ]
  },
  {
   "cell_type": "code",
   "execution_count": 310,
   "id": "9e94ec35-f916-4a63-8f34-58be63902837",
   "metadata": {},
   "outputs": [
    {
     "name": "stdout",
     "output_type": "stream",
     "text": [
      "+--------------+--------------------+--------------------+--------------------+-------+----+\n",
      "|      order_id|                Farm|           Corporate|              Retail|country|year|\n",
      "+--------------+--------------------+--------------------+--------------------+-------+----+\n",
      "|CA-2014-100412|{NULL, NULL, NULL...|{NULL, NULL, NULL...|{NULL, NULL, NULL...|     CA|2014|\n",
      "|CA-2014-100426|{NULL, NULL, NULL...|{NULL, NULL, NULL...|{NULL, NULL, NULL...|     CA|2014|\n",
      "|CA-2014-100622|{NULL, NULL, NULL...|{NULL, NULL, NULL...|{NULL, NULL, NULL...|     CA|2014|\n",
      "|CA-2014-100902|{NULL, NULL, NULL...|{NULL, NULL, NULL...|{NULL, NULL, NULL...|     CA|2014|\n",
      "|CA-2014-101042|{NULL, NULL, NULL...|{NULL, NULL, NULL...|{NULL, NULL, NULL...|     CA|2014|\n",
      "|CA-2014-101210|{NULL, NULL, 13.1...|{NULL, NULL, NULL...|{NULL, NULL, NULL...|     CA|2014|\n",
      "|CA-2014-101273|{NULL, NULL, 14.3...|{NULL, NULL, NULL...|{NULL, NULL, NULL...|     CA|2014|\n",
      "|CA-2014-101483|{NULL, NULL, 61.2...|{NULL, NULL, NULL...|{NULL, NULL, NULL...|     CA|2014|\n",
      "|CA-2014-102204|{NULL, NULL, NULL...|{NULL, NULL, NULL...|{NULL, NULL, NULL...|     CA|2014|\n",
      "|CA-2014-102309|{NULL, NULL, 212....|{NULL, NULL, NULL...|{NULL, NULL, NULL...|     CA|2014|\n",
      "|CA-2014-102554|{NULL, NULL, NULL...|{NULL, NULL, NULL...|{NULL, NULL, NULL...|     CA|2014|\n",
      "|CA-2014-102610|{NULL, NULL, NULL...|{NULL, NULL, NULL...|{NULL, NULL, NULL...|     CA|2014|\n",
      "|CA-2014-102736|{NULL, NULL, NULL...|{NULL, NULL, NULL...|{NULL, NULL, NULL...|     CA|2014|\n",
      "|CA-2014-103009|{NULL, NULL, NULL...|{NULL, NULL, 26.4...|{NULL, NULL, NULL...|     CA|2014|\n",
      "|CA-2014-103065|{NULL, 59.824, NU...|{NULL, NULL, NULL...|{NULL, NULL, NULL...|     CA|2014|\n",
      "|CA-2014-103212|{1541.51, NULL, N...|{NULL, NULL, NULL...|{NULL, NULL, NULL...|     CA|2014|\n",
      "|CA-2014-103499|{NULL, NULL, NULL...|{NULL, NULL, NULL...|{NULL, NULL, NULL...|     CA|2014|\n",
      "|CA-2014-104318|{NULL, NULL, NULL...|{NULL, NULL, NULL...|{NULL, NULL, NULL...|     CA|2014|\n",
      "|CA-2014-104731|{NULL, NULL, NULL...|{NULL, NULL, NULL...|{NULL, NULL, NULL...|     CA|2014|\n",
      "|CA-2014-104864|{NULL, NULL, NULL...|{NULL, NULL, 552....|{NULL, NULL, NULL...|     CA|2014|\n",
      "+--------------+--------------------+--------------------+--------------------+-------+----+\n",
      "only showing top 20 rows\n",
      "\n"
     ]
    }
   ],
   "source": [
    "df_new = spark.read.parquet(\"/home/jovyan/data/dataset.parquet\")\n",
    "df_new.show()"
   ]
  },
  {
   "cell_type": "code",
   "execution_count": null,
   "id": "4f67e945-1a7b-4f5b-82e0-92cbff2d752d",
   "metadata": {},
   "outputs": [],
   "source": []
  }
 ],
 "metadata": {
  "kernelspec": {
   "display_name": "Python 3 (ipykernel)",
   "language": "python",
   "name": "python3"
  },
  "language_info": {
   "codemirror_mode": {
    "name": "ipython",
    "version": 3
   },
   "file_extension": ".py",
   "mimetype": "text/x-python",
   "name": "python",
   "nbconvert_exporter": "python",
   "pygments_lexer": "ipython3",
   "version": "3.11.6"
  }
 },
 "nbformat": 4,
 "nbformat_minor": 5
}
