{
 "cells": [
  {
   "cell_type": "code",
   "execution_count": 21,
   "id": "c34d034d-8d54-4a5d-a5c0-797710a636eb",
   "metadata": {},
   "outputs": [],
   "source": [
    "import pyspark\n",
    "from pyspark.sql import SparkSession,Window\n",
    "from pyspark.conf import SparkConf\n",
    "from pyspark.sql.functions import col,lit,explode,count,when,min,max,avg,trim,sum,struct,round,broadcast,udf\n",
    "from pyspark.sql.types import StringType\n",
    "\n",
    "\n",
    "spark = SparkSession.builder.appName('Yagro Interview')\\\n",
    "                    .getOrCreate()"
   ]
  },
  {
   "cell_type": "code",
   "execution_count": 22,
   "id": "676a08eb-56af-46bd-85fa-e72b5dbf861e",
   "metadata": {},
   "outputs": [],
   "source": [
    "df=spark.read.csv('/home/jovyan/data/YAGRO-fuel-sales.csv')"
   ]
  },
  {
   "cell_type": "code",
   "execution_count": 23,
   "id": "b00f7288-bc77-4321-a9d0-821da570dcff",
   "metadata": {},
   "outputs": [
    {
     "data": {
      "text/plain": [
       "'Farm_Total'"
      ]
     },
     "execution_count": 23,
     "metadata": {},
     "output_type": "execute_result"
    }
   ],
   "source": [
    "def remove_spaces(s):\n",
    "    return s.replace(' ','_')\n",
    "remove_spaces('Farm Total')"
   ]
  },
  {
   "cell_type": "code",
   "execution_count": 24,
   "id": "5e5294d5-5827-450e-ac1c-f3926104ded6",
   "metadata": {},
   "outputs": [],
   "source": [
    "rows = df.collect()"
   ]
  },
  {
   "cell_type": "code",
   "execution_count": 25,
   "id": "9aa5e525-fe78-4086-8a24-56513d34ebd5",
   "metadata": {},
   "outputs": [],
   "source": [
    "main_columns =[]\n",
    "for i in range(1, len(rows[0])):\n",
    "    if(rows[0][i] is not None and 'Total' not in  rows[0][i]):\n",
    "        main_columns.append(rows[0][i])"
   ]
  },
  {
   "cell_type": "code",
   "execution_count": 26,
   "id": "62710707-740a-48f1-a167-de801bebad90",
   "metadata": {},
   "outputs": [],
   "source": [
    "# for each main column get the subcolumns and their location\n",
    "col_location =[]\n",
    "current_main_col = main_columns.pop(0)\n",
    "for i in range(1, len(rows[1])):\n",
    "    if(rows[1][i] is None):\n",
    "        col_location.append((current_main_col, remove_spaces(rows[0][i]),i))\n",
    "        try:\n",
    "            current_main_col = main_columns.pop(0)\n",
    "        except IndexError:\n",
    "            pass\n",
    "    else:\n",
    "        col_location.append((current_main_col, remove_spaces(rows[1][i]),i))"
   ]
  },
  {
   "cell_type": "code",
   "execution_count": 27,
   "id": "bef1bd34-8989-4f79-b6ea-aa56dd4dd2c9",
   "metadata": {},
   "outputs": [],
   "source": [
    "## cut the first 3 rows / rename first column and drop the last row"
   ]
  },
  {
   "cell_type": "code",
   "execution_count": 28,
   "id": "c3b726e2-729e-4848-9613-2ad07988fc92",
   "metadata": {},
   "outputs": [],
   "source": [
    "rdd_with_index = df.rdd.zipWithIndex()\n",
    "df_with_index = rdd_with_index.map(lambda x: (*x[0], x[1])).toDF(df.columns + [\"index\"])\n",
    "\n",
    "# get index of last row\n",
    "last_row = df_with_index.agg(max(\"index\").alias(\"max_index\")).collect()[0][0]\n",
    "\n",
    "df_new = df_with_index.filter((df_with_index.index > 2) & (df_with_index.index != last_row)).drop('index')"
   ]
  },
  {
   "cell_type": "code",
   "execution_count": 29,
   "id": "8e325b8a-b5ea-4e45-806c-64e69489ef8f",
   "metadata": {},
   "outputs": [],
   "source": [
    "df_new = df_new.withColumnRenamed('_c0','order_id')\n",
    "\n",
    "for i in col_location:\n",
    "    if(i[0] not in df_new.columns):\n",
    "        df_new = df_new.withColumn(i[0], struct(col(f\"_c{i[2]}\").alias(i[1]))).drop(f\"_c{i[2]}\")\n",
    "    else:\n",
    "        df_new = df_new.withColumn(i[0],col(i[0]).withField(i[1], col(f\"_c{i[2]}\").alias(i[1]))).drop(f\"_c{i[2]}\")"
   ]
  },
  {
   "cell_type": "code",
   "execution_count": 30,
   "id": "1811fe7b-641c-4e3b-b9cc-397395d0b82d",
   "metadata": {},
   "outputs": [
    {
     "data": {
      "text/plain": [
       "'2011'"
      ]
     },
     "execution_count": 30,
     "metadata": {},
     "output_type": "execute_result"
    }
   ],
   "source": [
    "def extract_year(s):\n",
    "    return (s.split('-')[1])\n",
    "extract_year('CA-2011-100895')"
   ]
  },
  {
   "cell_type": "code",
   "execution_count": 31,
   "id": "fae0b14e-4edb-4229-b795-8049c0536b58",
   "metadata": {},
   "outputs": [
    {
     "data": {
      "text/plain": [
       "'CA'"
      ]
     },
     "execution_count": 31,
     "metadata": {},
     "output_type": "execute_result"
    }
   ],
   "source": [
    "def extract_country(s):\n",
    "    return (s.split('-')[0])\n",
    "extract_country('CA-2011-100895')"
   ]
  },
  {
   "cell_type": "code",
   "execution_count": 32,
   "id": "7b8485da-7c36-4fc3-8882-a33835e345f9",
   "metadata": {},
   "outputs": [],
   "source": [
    "extract_year_udf = udf(extract_year, StringType())\n",
    "extract_country_udf = udf(extract_country, StringType())\n",
    "df_new = df_new.withColumn('year',extract_year_udf(col('order_id')))\n",
    "df_new = df_new.withColumn('country',extract_country_udf(col('order_id')))"
   ]
  },
  {
   "cell_type": "code",
   "execution_count": 33,
   "id": "8c2860e8-a79e-447a-961a-49a594f48262",
   "metadata": {},
   "outputs": [
    {
     "name": "stdout",
     "output_type": "stream",
     "text": [
      "+--------------+--------------------+--------------------+--------------------+----+-------+\n",
      "|      order_id|                Farm|           Corporate|              Retail|year|country|\n",
      "+--------------+--------------------+--------------------+--------------------+----+-------+\n",
      "|CA-2011-100293|{NULL, NULL, NULL...|{NULL, NULL, NULL...|{NULL, NULL, NULL...|2011|     CA|\n",
      "|CA-2011-100706|{NULL, NULL, 129....|{NULL, NULL, NULL...|{NULL, NULL, NULL...|2011|     CA|\n",
      "|CA-2011-100895|{NULL, NULL, NULL...|{NULL, NULL, NULL...|{NULL, NULL, NULL...|2011|     CA|\n",
      "|CA-2011-100916|{NULL, NULL, NULL...|{NULL, NULL, NULL...|{NULL, NULL, NULL...|2011|     CA|\n",
      "|CA-2011-101266|{NULL, NULL, 13.3...|{NULL, NULL, NULL...|{NULL, NULL, NULL...|2011|     CA|\n",
      "|CA-2011-101560|{NULL, NULL, NULL...|{NULL, NULL, 542....|{NULL, NULL, NULL...|2011|     CA|\n",
      "|CA-2011-101770|{NULL, NULL, NULL...|{NULL, NULL, NULL...|{NULL, NULL, NULL...|2011|     CA|\n",
      "|CA-2011-102274|{NULL, NULL, NULL...|{NULL, NULL, NULL...|{NULL, NULL, NULL...|2011|     CA|\n",
      "|CA-2011-102673|{NULL, NULL, NULL...|{NULL, NULL, NULL...|{NULL, NULL, NULL...|2011|     CA|\n",
      "|CA-2011-102988|{NULL, NULL, NULL...|{NULL, NULL, 4251...|{NULL, NULL, NULL...|2011|     CA|\n",
      "|CA-2011-103317|{NULL, NULL, NULL...|{242.546, NULL, N...|{NULL, NULL, NULL...|2011|     CA|\n",
      "|CA-2011-103366|{149.95, NULL, NU...|{NULL, NULL, NULL...|{NULL, NULL, NULL...|2011|     CA|\n",
      "|CA-2011-103807|{NULL, NULL, NULL...|{NULL, NULL, NULL...|{NULL, NULL, NULL...|2011|     CA|\n",
      "|CA-2011-103989|{NULL, NULL, NULL...|{590.762, NULL, N...|{NULL, NULL, NULL...|2011|     CA|\n",
      "|CA-2011-104283|{NULL, NULL, NULL...|{NULL, NULL, NULL...|{NULL, NULL, NULL...|2011|     CA|\n",
      "|CA-2011-106054|{NULL, NULL, NULL...|{12.78, NULL, NUL...|{NULL, NULL, NULL...|2011|     CA|\n",
      "|CA-2011-106810|{NULL, NULL, NULL...|{NULL, NULL, NULL...|{NULL, NULL, NULL...|2011|     CA|\n",
      "|CA-2011-107573|{NULL, NULL, NULL...|{NULL, NULL, NULL...|{NULL, NULL, NULL...|2011|     CA|\n",
      "|CA-2011-107811|{NULL, NULL, NULL...|{NULL, NULL, NULL...|{NULL, NULL, NULL...|2011|     CA|\n",
      "|CA-2011-108707|{NULL, NULL, NULL...|{NULL, NULL, NULL...|{NULL, NULL, NULL...|2011|     CA|\n",
      "+--------------+--------------------+--------------------+--------------------+----+-------+\n",
      "only showing top 20 rows\n",
      "\n"
     ]
    }
   ],
   "source": []
  },
  {
   "cell_type": "markdown",
   "id": "268121ea-0bc7-4aba-9db3-cb27aeb8fb64",
   "metadata": {},
   "source": [
    "### Storage"
   ]
  },
  {
   "cell_type": "code",
   "execution_count": 20,
   "id": "8a4479c1-076b-40bd-a577-12d4e3cf26c9",
   "metadata": {},
   "outputs": [
    {
     "name": "stdout",
     "output_type": "stream",
     "text": [
      "order_id null test - Success\n"
     ]
    }
   ],
   "source": [
    "def order_id_null(spark,df):\n",
    "    null_user_id_count = df.filter(col(\"order_id\").isNull()).count()\n",
    "    assert null_user_id_count == 0, f\"order_id null test Failed\"\n",
    "    print(\"order_id null test - Success\")\n",
    "\n",
    "order_id_null(spark,df_new)\n",
    "\n",
    "df_new.write.partitionBy('year').mode('overwrite').parquet(\"/home/jovyan/data/dataset.parquet\")"
   ]
  },
  {
   "cell_type": "code",
   "execution_count": null,
   "id": "9e94ec35-f916-4a63-8f34-58be63902837",
   "metadata": {},
   "outputs": [],
   "source": []
  }
 ],
 "metadata": {
  "kernelspec": {
   "display_name": "Python 3 (ipykernel)",
   "language": "python",
   "name": "python3"
  },
  "language_info": {
   "codemirror_mode": {
    "name": "ipython",
    "version": 3
   },
   "file_extension": ".py",
   "mimetype": "text/x-python",
   "name": "python",
   "nbconvert_exporter": "python",
   "pygments_lexer": "ipython3",
   "version": "3.11.6"
  }
 },
 "nbformat": 4,
 "nbformat_minor": 5
}
